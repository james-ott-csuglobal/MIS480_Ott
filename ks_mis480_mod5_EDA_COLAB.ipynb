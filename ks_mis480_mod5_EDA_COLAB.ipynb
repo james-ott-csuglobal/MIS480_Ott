{
  "nbformat": 4,
  "nbformat_minor": 0,
  "metadata": {
    "kernelspec": {
      "display_name": "Python 3",
      "language": "python",
      "name": "python3"
    },
    "language_info": {
      "codemirror_mode": {
        "name": "ipython",
        "version": 3
      },
      "file_extension": ".py",
      "mimetype": "text/x-python",
      "name": "python",
      "nbconvert_exporter": "python",
      "pygments_lexer": "ipython3",
      "version": "3.8.5"
    },
    "colab": {
      "name": "ks_mis480_mod5_EDA_COLAB.ipynb",
      "provenance": [],
      "collapsed_sections": [
        "3kV-9C8YPgeb",
        "DHIozHw8Pgeb",
        "1j7aAXbKPged",
        "qCBWNjJMPgei",
        "AETFoVulPgel"
      ],
      "include_colab_link": true
    }
  },
  "cells": [
    {
      "cell_type": "markdown",
      "metadata": {
        "id": "view-in-github",
        "colab_type": "text"
      },
      "source": [
        "<a href=\"https://colab.research.google.com/github/james-ott-csuglobal/MIS480_Ott/blob/main/ks_mis480_mod5_EDA_COLAB.ipynb\" target=\"_parent\"><img src=\"https://colab.research.google.com/assets/colab-badge.svg\" alt=\"Open In Colab\"/></a>"
      ]
    },
    {
      "cell_type": "markdown",
      "metadata": {
        "id": "Aco4KJB6PgeK"
      },
      "source": [
        "## Portfolio Module 5, MIS480, James Ott, james.ott@csuglobal.edu\n",
        "___\n",
        "# Kickstarter Dataset Analysis\n",
        "\n",
        "## Background\n",
        "### Kickstarter is a crowdfunding company that only generates revenue when a project has acheived its target goal fundraising amount.  Therefore, the ability to properly identify and magnify the exposure of successful campaigns is critical to the success of the company. \n",
        "\n",
        "## Dataset\n",
        "### This dataset spans from 2009 to 2019.  \n",
        "### Dataset available from the following link:   [Kickstarter Dataset 2.0](https://www.kaggle.com/yashkantharia/kickstarter-campaigns-dataset-20).\n",
        "\n",
        "\n",
        "#### Note:  Use the toggle below the following codeblock to turn code cells on and off for readability\n",
        "\n",
        "___"
      ]
    },
    {
      "cell_type": "code",
      "metadata": {
        "colab": {
          "base_uri": "https://localhost:8080/",
          "height": 36
        },
        "id": "ajtzmbvMPgeR",
        "outputId": "145c9c20-5206-4983-8c14-540c52ea34f8"
      },
      "source": [
        "#This code does not work in COLAB\n",
        "\n",
        "# C:\\Users\\jimgi\\Py_MIS480\\Kickstarter_Campaigns_DataSet.csv\n",
        "\n",
        "from IPython.display import HTML\n",
        "\n",
        "HTML('''<script>\n",
        "code_show=true; \n",
        "function code_toggle() {\n",
        " if (code_show){\n",
        " $('div.input').hide();\n",
        " } else {\n",
        " $('div.input').show();\n",
        " }\n",
        " code_show = !code_show\n",
        "} \n",
        "$( document ).ready(code_toggle);\n",
        "</script>\n",
        "<form action=\"javascript:code_toggle()\"><input type=\"submit\" value=\"Click here to toggle on/off the raw code.\"></form>''')\n"
      ],
      "execution_count": 1,
      "outputs": [
        {
          "output_type": "execute_result",
          "data": {
            "text/html": [
              "<script>\n",
              "code_show=true; \n",
              "function code_toggle() {\n",
              " if (code_show){\n",
              " $('div.input').hide();\n",
              " } else {\n",
              " $('div.input').show();\n",
              " }\n",
              " code_show = !code_show\n",
              "} \n",
              "$( document ).ready(code_toggle);\n",
              "</script>\n",
              "<form action=\"javascript:code_toggle()\"><input type=\"submit\" value=\"Click here to toggle on/off the raw code.\"></form>"
            ],
            "text/plain": [
              "<IPython.core.display.HTML object>"
            ]
          },
          "metadata": {
            "tags": []
          },
          "execution_count": 1
        }
      ]
    },
    {
      "cell_type": "code",
      "metadata": {
        "id": "1AqD1PNrPgeS"
      },
      "source": [
        "# import packages\n",
        "import math\n",
        "import numpy as np\n",
        "import pandas as pd\n",
        "import matplotlib.pyplot as plt\n",
        "%matplotlib inline\n",
        "from IPython.display import display, HTML, display_html\n",
        "import seaborn as sns\n",
        "import datetime\n",
        "from datetime import datetime\n",
        "from scipy import stats"
      ],
      "execution_count": 2,
      "outputs": []
    },
    {
      "cell_type": "code",
      "metadata": {
        "id": "6Xm25tZyPgeT"
      },
      "source": [
        "# settings for the notebook to make display and reading a little easier\n",
        "\n",
        "# set formatting\n",
        "pd.set_option('display.max_columns', 100)\n",
        "pd.set_option('display.max_rows', 100)\n",
        "pd.options.display.max_colwidth = 100  # makes individual cells larger to read long print entries\n",
        "\n",
        "pd.options.display.float_format = '{:,}'.format  #add commas to large numbers for readability\n",
        "\n",
        "import warnings\n",
        "warnings.simplefilter('ignore') #Stops deprecated code warnings from popping up\n",
        "\n",
        "#Seaborn formatting\n",
        "\n",
        "sns.set_theme(style=\"whitegrid\")"
      ],
      "execution_count": 3,
      "outputs": []
    },
    {
      "cell_type": "code",
      "metadata": {
        "colab": {
          "resources": {
            "http://localhost:8080/nbextensions/google.colab/files.js": {
              "data": "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",
              "ok": true,
              "headers": [
                [
                  "content-type",
                  "application/javascript"
                ]
              ],
              "status": 200,
              "status_text": ""
            }
          },
          "base_uri": "https://localhost:8080/",
          "height": 252
        },
        "id": "jVu5GwDaPgeT",
        "outputId": "deb02326-0722-48c0-9b50-4d4c1e9503d9"
      },
      "source": [
        "# Reading dataset from Drive OR if in Colab upload the file from computer\n",
        "\n",
        "# ks_path = r'C:\\Users\\jimgi\\Py_MIS480\\Kickstarter_Campaigns_DataSet.csv'\n",
        "# df1 = pd.read_csv(ks_path)\n",
        "\n",
        "\n",
        "from google.colab import files\n",
        "files.upload()\n",
        "\n"
      ],
      "execution_count": 4,
      "outputs": [
        {
          "output_type": "display_data",
          "data": {
            "text/html": [
              "\n",
              "     <input type=\"file\" id=\"files-e52cbee5-72cc-43ef-9798-e3283695bd5d\" name=\"files[]\" multiple disabled\n",
              "        style=\"border:none\" />\n",
              "     <output id=\"result-e52cbee5-72cc-43ef-9798-e3283695bd5d\">\n",
              "      Upload widget is only available when the cell has been executed in the\n",
              "      current browser session. Please rerun this cell to enable.\n",
              "      </output>\n",
              "      <script src=\"/nbextensions/google.colab/files.js\"></script> "
            ],
            "text/plain": [
              "<IPython.core.display.HTML object>"
            ]
          },
          "metadata": {
            "tags": []
          }
        },
        {
          "output_type": "stream",
          "text": [
            "Saving Kickstarter_Campaigns_DataSet.csv to Kickstarter_Campaigns_DataSet.csv\n"
          ],
          "name": "stdout"
        },
        {
          "output_type": "error",
          "ename": "NameError",
          "evalue": "ignored",
          "traceback": [
            "\u001b[0;31m---------------------------------------------------------------------------\u001b[0m",
            "\u001b[0;31mNameError\u001b[0m                                 Traceback (most recent call last)",
            "\u001b[0;32m<ipython-input-4-64d57a8347ec>\u001b[0m in \u001b[0;36m<module>\u001b[0;34m()\u001b[0m\n\u001b[1;32m      6\u001b[0m \u001b[0mfiles\u001b[0m\u001b[0;34m.\u001b[0m\u001b[0mupload\u001b[0m\u001b[0;34m(\u001b[0m\u001b[0;34m)\u001b[0m\u001b[0;34m\u001b[0m\u001b[0;34m\u001b[0m\u001b[0m\n\u001b[1;32m      7\u001b[0m \u001b[0;34m\u001b[0m\u001b[0m\n\u001b[0;32m----> 8\u001b[0;31m \u001b[0mdf1\u001b[0m \u001b[0;34m=\u001b[0m \u001b[0mpd\u001b[0m\u001b[0;34m.\u001b[0m\u001b[0mread_csv\u001b[0m\u001b[0;34m(\u001b[0m\u001b[0mks_path\u001b[0m\u001b[0;34m)\u001b[0m\u001b[0;34m\u001b[0m\u001b[0;34m\u001b[0m\u001b[0m\n\u001b[0m",
            "\u001b[0;31mNameError\u001b[0m: name 'ks_path' is not defined"
          ]
        }
      ]
    },
    {
      "cell_type": "code",
      "metadata": {
        "id": "o7jwwQu9TMQC"
      },
      "source": [
        "df1 = pd.read_csv('Kickstarter_Campaigns_DataSet.csv')"
      ],
      "execution_count": 5,
      "outputs": []
    },
    {
      "cell_type": "markdown",
      "metadata": {
        "id": "UyQlF5C-PgeU"
      },
      "source": [
        "### Generate some basic statistics and metadata about our dataset"
      ]
    },
    {
      "cell_type": "code",
      "metadata": {
        "colab": {
          "base_uri": "https://localhost:8080/",
          "height": 314
        },
        "id": "60ozTHM6PgeU",
        "outputId": "962a93c0-0639-4e78-fb9b-8bfde2f1a707"
      },
      "source": [
        "# basic info\n",
        "\n",
        "print('Numeric Data: ')\n",
        "df1.describe().T"
      ],
      "execution_count": 6,
      "outputs": [
        {
          "output_type": "stream",
          "text": [
            "Numeric Data: \n"
          ],
          "name": "stdout"
        },
        {
          "output_type": "execute_result",
          "data": {
            "text/html": [
              "<div>\n",
              "<style scoped>\n",
              "    .dataframe tbody tr th:only-of-type {\n",
              "        vertical-align: middle;\n",
              "    }\n",
              "\n",
              "    .dataframe tbody tr th {\n",
              "        vertical-align: top;\n",
              "    }\n",
              "\n",
              "    .dataframe thead th {\n",
              "        text-align: right;\n",
              "    }\n",
              "</style>\n",
              "<table border=\"1\" class=\"dataframe\">\n",
              "  <thead>\n",
              "    <tr style=\"text-align: right;\">\n",
              "      <th></th>\n",
              "      <th>count</th>\n",
              "      <th>mean</th>\n",
              "      <th>std</th>\n",
              "      <th>min</th>\n",
              "      <th>25%</th>\n",
              "      <th>50%</th>\n",
              "      <th>75%</th>\n",
              "      <th>max</th>\n",
              "    </tr>\n",
              "  </thead>\n",
              "  <tbody>\n",
              "    <tr>\n",
              "      <th>Unnamed: 0</th>\n",
              "      <td>207,839.0</td>\n",
              "      <td>103,923.44139935238</td>\n",
              "      <td>60,000.93843738334</td>\n",
              "      <td>0.0</td>\n",
              "      <td>51,961.5</td>\n",
              "      <td>103,923.0</td>\n",
              "      <td>155,885.5</td>\n",
              "      <td>207,847.0</td>\n",
              "    </tr>\n",
              "    <tr>\n",
              "      <th>id</th>\n",
              "      <td>207,839.0</td>\n",
              "      <td>1,073,131,711.6691862</td>\n",
              "      <td>619,529,030.6448271</td>\n",
              "      <td>8,624.0</td>\n",
              "      <td>534,997,551.0</td>\n",
              "      <td>1,075,616,930.0</td>\n",
              "      <td>1,608,411,170.0</td>\n",
              "      <td>2,147,476,221.0</td>\n",
              "    </tr>\n",
              "    <tr>\n",
              "      <th>backers_count</th>\n",
              "      <td>207,839.0</td>\n",
              "      <td>148.1850567025438</td>\n",
              "      <td>890.4241185124322</td>\n",
              "      <td>0.0</td>\n",
              "      <td>4.0</td>\n",
              "      <td>27.0</td>\n",
              "      <td>89.0</td>\n",
              "      <td>105,857.0</td>\n",
              "    </tr>\n",
              "    <tr>\n",
              "      <th>usd_pledged</th>\n",
              "      <td>207,839.0</td>\n",
              "      <td>13,190.163647742374</td>\n",
              "      <td>89,313.1197797129</td>\n",
              "      <td>0.0</td>\n",
              "      <td>105.0</td>\n",
              "      <td>1,547.0</td>\n",
              "      <td>6,646.0</td>\n",
              "      <td>8,596,474.58</td>\n",
              "    </tr>\n",
              "    <tr>\n",
              "      <th>creator_id</th>\n",
              "      <td>207,839.0</td>\n",
              "      <td>1,073,981,743.8531075</td>\n",
              "      <td>620,294,882.9147277</td>\n",
              "      <td>3.0</td>\n",
              "      <td>536,674,048.5</td>\n",
              "      <td>1,072,811,192.0</td>\n",
              "      <td>1,611,959,439.0</td>\n",
              "      <td>2,147,483,434.0</td>\n",
              "    </tr>\n",
              "    <tr>\n",
              "      <th>blurb_length</th>\n",
              "      <td>207,839.0</td>\n",
              "      <td>112.36637493444445</td>\n",
              "      <td>26.688985372300728</td>\n",
              "      <td>1.0</td>\n",
              "      <td>101.0</td>\n",
              "      <td>124.0</td>\n",
              "      <td>132.0</td>\n",
              "      <td>196.0</td>\n",
              "    </tr>\n",
              "    <tr>\n",
              "      <th>goal_usd</th>\n",
              "      <td>207,839.0</td>\n",
              "      <td>40,393.119838094935</td>\n",
              "      <td>1,096,046.2103080165</td>\n",
              "      <td>0.01</td>\n",
              "      <td>1,500.0</td>\n",
              "      <td>5,000.0</td>\n",
              "      <td>12,856.7921</td>\n",
              "      <td>128,567,921.0</td>\n",
              "    </tr>\n",
              "    <tr>\n",
              "      <th>duration</th>\n",
              "      <td>207,839.0</td>\n",
              "      <td>32.676735357656646</td>\n",
              "      <td>11.812612014633515</td>\n",
              "      <td>1.0</td>\n",
              "      <td>30.0</td>\n",
              "      <td>30.0</td>\n",
              "      <td>35.0</td>\n",
              "      <td>93.0</td>\n",
              "    </tr>\n",
              "  </tbody>\n",
              "</table>\n",
              "</div>"
            ],
            "text/plain": [
              "                  count                  mean                  std     min  \\\n",
              "Unnamed: 0    207,839.0   103,923.44139935238   60,000.93843738334     0.0   \n",
              "id            207,839.0 1,073,131,711.6691862  619,529,030.6448271 8,624.0   \n",
              "backers_count 207,839.0     148.1850567025438    890.4241185124322     0.0   \n",
              "usd_pledged   207,839.0   13,190.163647742374    89,313.1197797129     0.0   \n",
              "creator_id    207,839.0 1,073,981,743.8531075  620,294,882.9147277     3.0   \n",
              "blurb_length  207,839.0    112.36637493444445   26.688985372300728     1.0   \n",
              "goal_usd      207,839.0   40,393.119838094935 1,096,046.2103080165    0.01   \n",
              "duration      207,839.0    32.676735357656646   11.812612014633515     1.0   \n",
              "\n",
              "                        25%             50%             75%             max  \n",
              "Unnamed: 0         51,961.5       103,923.0       155,885.5       207,847.0  \n",
              "id            534,997,551.0 1,075,616,930.0 1,608,411,170.0 2,147,476,221.0  \n",
              "backers_count           4.0            27.0            89.0       105,857.0  \n",
              "usd_pledged           105.0         1,547.0         6,646.0    8,596,474.58  \n",
              "creator_id    536,674,048.5 1,072,811,192.0 1,611,959,439.0 2,147,483,434.0  \n",
              "blurb_length          101.0           124.0           132.0           196.0  \n",
              "goal_usd            1,500.0         5,000.0     12,856.7921   128,567,921.0  \n",
              "duration               30.0            30.0            35.0            93.0  "
            ]
          },
          "metadata": {
            "tags": []
          },
          "execution_count": 6
        }
      ]
    },
    {
      "cell_type": "code",
      "metadata": {
        "colab": {
          "base_uri": "https://localhost:8080/"
        },
        "id": "B2xDxZfmPgeU",
        "outputId": "597be060-dc83-48a0-e0aa-3fe87603f451"
      },
      "source": [
        "#checking for missing values and datatypes\n",
        "\n",
        "df1.info()"
      ],
      "execution_count": 7,
      "outputs": [
        {
          "output_type": "stream",
          "text": [
            "<class 'pandas.core.frame.DataFrame'>\n",
            "RangeIndex: 207839 entries, 0 to 207838\n",
            "Data columns (total 18 columns):\n",
            " #   Column         Non-Null Count   Dtype  \n",
            "---  ------         --------------   -----  \n",
            " 0   Unnamed: 0     207839 non-null  int64  \n",
            " 1   id             207839 non-null  int64  \n",
            " 2   name           207839 non-null  object \n",
            " 3   currency       207839 non-null  object \n",
            " 4   launched_at    207839 non-null  object \n",
            " 5   backers_count  207839 non-null  int64  \n",
            " 6   blurb          207839 non-null  object \n",
            " 7   country        207839 non-null  object \n",
            " 8   deadline       207839 non-null  object \n",
            " 9   status         207839 non-null  object \n",
            " 10  usd_pledged    207839 non-null  float64\n",
            " 11  sub_category   207839 non-null  object \n",
            " 12  main_category  207839 non-null  object \n",
            " 13  creator_id     207839 non-null  int64  \n",
            " 14  blurb_length   207839 non-null  int64  \n",
            " 15  goal_usd       207839 non-null  float64\n",
            " 16  city           207839 non-null  object \n",
            " 17  duration       207839 non-null  int64  \n",
            "dtypes: float64(2), int64(6), object(10)\n",
            "memory usage: 28.5+ MB\n"
          ],
          "name": "stdout"
        }
      ]
    },
    {
      "cell_type": "markdown",
      "metadata": {
        "id": "_UrAbBXKPgeV"
      },
      "source": [
        "\n",
        "### Can see date based data such as launched_at and deadline are not in as datetime format and in as objects.\n",
        "### We can see however, that 207,839 non-null rows matches the total count above so there does not appear to be missing data.\n",
        "\n",
        "### Looking at a couple rows of data to get a feel for the dataset:\n"
      ]
    },
    {
      "cell_type": "code",
      "metadata": {
        "colab": {
          "base_uri": "https://localhost:8080/",
          "height": 403
        },
        "id": "MtBzv4aVPgeV",
        "outputId": "3da003bc-09bf-4d35-b190-6fd32a84c72f"
      },
      "source": [
        "\n",
        "df1.head(2)"
      ],
      "execution_count": 21,
      "outputs": [
        {
          "output_type": "execute_result",
          "data": {
            "text/html": [
              "<div>\n",
              "<style scoped>\n",
              "    .dataframe tbody tr th:only-of-type {\n",
              "        vertical-align: middle;\n",
              "    }\n",
              "\n",
              "    .dataframe tbody tr th {\n",
              "        vertical-align: top;\n",
              "    }\n",
              "\n",
              "    .dataframe thead th {\n",
              "        text-align: right;\n",
              "    }\n",
              "</style>\n",
              "<table border=\"1\" class=\"dataframe\">\n",
              "  <thead>\n",
              "    <tr style=\"text-align: right;\">\n",
              "      <th></th>\n",
              "      <th>Unnamed: 0</th>\n",
              "      <th>id</th>\n",
              "      <th>name</th>\n",
              "      <th>currency</th>\n",
              "      <th>launched_at</th>\n",
              "      <th>backers_count</th>\n",
              "      <th>blurb</th>\n",
              "      <th>country</th>\n",
              "      <th>deadline</th>\n",
              "      <th>status</th>\n",
              "      <th>usd_pledged</th>\n",
              "      <th>sub_category</th>\n",
              "      <th>main_category</th>\n",
              "      <th>creator_id</th>\n",
              "      <th>blurb_length</th>\n",
              "      <th>goal_usd</th>\n",
              "      <th>city</th>\n",
              "      <th>duration</th>\n",
              "      <th>is_project</th>\n",
              "      <th>is_succ</th>\n",
              "      <th>start_month</th>\n",
              "      <th>start_week</th>\n",
              "      <th>start_year</th>\n",
              "      <th>start_day</th>\n",
              "      <th>start_is_weekend</th>\n",
              "      <th>start_Q1</th>\n",
              "      <th>start_Q2</th>\n",
              "      <th>start_Q3</th>\n",
              "      <th>start_Q4</th>\n",
              "      <th>end_month</th>\n",
              "      <th>end_week</th>\n",
              "      <th>end_year</th>\n",
              "      <th>end_day</th>\n",
              "      <th>end_is_weekend</th>\n",
              "      <th>end_Q1</th>\n",
              "      <th>end_Q2</th>\n",
              "      <th>end_Q3</th>\n",
              "      <th>end_Q4</th>\n",
              "    </tr>\n",
              "  </thead>\n",
              "  <tbody>\n",
              "    <tr>\n",
              "      <th>0</th>\n",
              "      <td>0</td>\n",
              "      <td>1504859185</td>\n",
              "      <td>Industrial Bamboo Table</td>\n",
              "      <td>USD</td>\n",
              "      <td>2016-11-05 18:42:00</td>\n",
              "      <td>1</td>\n",
              "      <td>An eco-friendly coffee table that is both functional and beautiful. This table will be long last...</td>\n",
              "      <td>US</td>\n",
              "      <td>2016-12-05 19:42:00</td>\n",
              "      <td>failed</td>\n",
              "      <td>240.0</td>\n",
              "      <td>crafts</td>\n",
              "      <td>Woodworking</td>\n",
              "      <td>983022919</td>\n",
              "      <td>127</td>\n",
              "      <td>5,000.0</td>\n",
              "      <td>Austin</td>\n",
              "      <td>30</td>\n",
              "      <td>1</td>\n",
              "      <td>0</td>\n",
              "      <td>11</td>\n",
              "      <td>44</td>\n",
              "      <td>2016</td>\n",
              "      <td>5</td>\n",
              "      <td>1</td>\n",
              "      <td>0</td>\n",
              "      <td>0</td>\n",
              "      <td>0</td>\n",
              "      <td>1</td>\n",
              "      <td>12</td>\n",
              "      <td>49</td>\n",
              "      <td>2016</td>\n",
              "      <td>0</td>\n",
              "      <td>0</td>\n",
              "      <td>0</td>\n",
              "      <td>0</td>\n",
              "      <td>0</td>\n",
              "      <td>0</td>\n",
              "    </tr>\n",
              "    <tr>\n",
              "      <th>1</th>\n",
              "      <td>1</td>\n",
              "      <td>49266114</td>\n",
              "      <td>Custom Pet Portraits on Canvas- \"From Pixels to Paint\"</td>\n",
              "      <td>CAD</td>\n",
              "      <td>2015-07-21 12:00:00</td>\n",
              "      <td>3</td>\n",
              "      <td>We take digital uploads and make them handpainted masterpieces. Help us offer unique keepsakes t...</td>\n",
              "      <td>CA</td>\n",
              "      <td>2015-08-24 12:00:00</td>\n",
              "      <td>failed</td>\n",
              "      <td>247.9501752</td>\n",
              "      <td>art</td>\n",
              "      <td>Painting</td>\n",
              "      <td>101531536</td>\n",
              "      <td>123</td>\n",
              "      <td>753.7465</td>\n",
              "      <td>London</td>\n",
              "      <td>34</td>\n",
              "      <td>1</td>\n",
              "      <td>0</td>\n",
              "      <td>7</td>\n",
              "      <td>30</td>\n",
              "      <td>2015</td>\n",
              "      <td>1</td>\n",
              "      <td>0</td>\n",
              "      <td>0</td>\n",
              "      <td>0</td>\n",
              "      <td>1</td>\n",
              "      <td>0</td>\n",
              "      <td>8</td>\n",
              "      <td>35</td>\n",
              "      <td>2015</td>\n",
              "      <td>0</td>\n",
              "      <td>0</td>\n",
              "      <td>0</td>\n",
              "      <td>0</td>\n",
              "      <td>1</td>\n",
              "      <td>0</td>\n",
              "    </tr>\n",
              "  </tbody>\n",
              "</table>\n",
              "</div>"
            ],
            "text/plain": [
              "   Unnamed: 0          id  \\\n",
              "0           0  1504859185   \n",
              "1           1    49266114   \n",
              "\n",
              "                                                     name currency  \\\n",
              "0                                 Industrial Bamboo Table      USD   \n",
              "1  Custom Pet Portraits on Canvas- \"From Pixels to Paint\"      CAD   \n",
              "\n",
              "          launched_at  backers_count  \\\n",
              "0 2016-11-05 18:42:00              1   \n",
              "1 2015-07-21 12:00:00              3   \n",
              "\n",
              "                                                                                                 blurb  \\\n",
              "0  An eco-friendly coffee table that is both functional and beautiful. This table will be long last...   \n",
              "1  We take digital uploads and make them handpainted masterpieces. Help us offer unique keepsakes t...   \n",
              "\n",
              "  country            deadline  status  usd_pledged sub_category main_category  \\\n",
              "0      US 2016-12-05 19:42:00  failed        240.0       crafts   Woodworking   \n",
              "1      CA 2015-08-24 12:00:00  failed  247.9501752          art      Painting   \n",
              "\n",
              "   creator_id  blurb_length  goal_usd    city  duration  is_project  is_succ  \\\n",
              "0   983022919           127   5,000.0  Austin        30           1        0   \n",
              "1   101531536           123  753.7465  London        34           1        0   \n",
              "\n",
              "   start_month  start_week  start_year  start_day  start_is_weekend  start_Q1  \\\n",
              "0           11          44        2016          5                 1         0   \n",
              "1            7          30        2015          1                 0         0   \n",
              "\n",
              "   start_Q2  start_Q3  start_Q4  end_month  end_week  end_year  end_day  \\\n",
              "0         0         0         1         12        49      2016        0   \n",
              "1         0         1         0          8        35      2015        0   \n",
              "\n",
              "   end_is_weekend  end_Q1  end_Q2  end_Q3  end_Q4  \n",
              "0               0       0       0       0       0  \n",
              "1               0       0       0       1       0  "
            ]
          },
          "metadata": {
            "tags": []
          },
          "execution_count": 21
        }
      ]
    },
    {
      "cell_type": "markdown",
      "metadata": {
        "id": "C9YWrUHXPgeW"
      },
      "source": [
        "### Need to convert 'launched_at' and 'deadline' to datetime objects for analysis"
      ]
    },
    {
      "cell_type": "code",
      "metadata": {
        "colab": {
          "base_uri": "https://localhost:8080/"
        },
        "id": "dgpTOw72PgeW",
        "outputId": "79a949a2-051a-4e8b-8ebb-6329b1a91a9f"
      },
      "source": [
        "# Converting launched at and deadline to datetime objects to make time series analysis easier if necessary\n",
        "\n",
        "df1['launched_at'] =  pd.to_datetime(df1['launched_at'])\n",
        "df1['deadline'] =  pd.to_datetime(df1['deadline'])\n",
        "df1['is_project'] = 1\n",
        "df1['is_succ'] = df1['status'].apply(lambda x: 1 if x == 'successful' else 0) \n",
        "\n",
        "\n",
        "# Make sure changes have taken place\n",
        "\n",
        "print('launched_at converted to: ', df1['launched_at'].dtypes)\n",
        "print('deadline converted to: ', df1['deadline'].dtypes)"
      ],
      "execution_count": 22,
      "outputs": [
        {
          "output_type": "stream",
          "text": [
            "launched_at converted to:  datetime64[ns]\n",
            "deadline converted to:  datetime64[ns]\n"
          ],
          "name": "stdout"
        }
      ]
    },
    {
      "cell_type": "markdown",
      "metadata": {
        "id": "dok7CS-hPgeX"
      },
      "source": [
        "### Adding in some date and day encoder columns for future potential of time series analysis or machine learning techniques"
      ]
    },
    {
      "cell_type": "code",
      "metadata": {
        "id": "OAtarLztPgeX"
      },
      "source": [
        "# Add in some numeric values based on datetimes to simplify later time analysis and quarterly analysis\n",
        "\n",
        "def date_quarter_encoder(df,column, prefix):\n",
        "    df[prefix + '_month']             = df[column].dt.month\n",
        "#     df[prefix + '_week\"]            = df[column].dt.week, deprecated\n",
        "    df[prefix + '_week']              = df[column].dt.isocalendar().week\n",
        "    df[prefix + '_year']              = df[column].dt.year\n",
        "    df[prefix + '_day']               = df[column].dt.weekday\n",
        "    df[prefix + '_is_weekend']        = df[prefix + '_day'].apply(lambda x: 1 if x > 4 else 0)\n",
        "    df[prefix + '_Q1']                = df[prefix + '_month'].apply(lambda x: 1 if x <= 2 else 0)\n",
        "    df[prefix + '_Q2']                = df[prefix + '_month'].apply(lambda x: 1 if 2 < x <= 5 else 0)\n",
        "    df[prefix + '_Q3']                = df[prefix + '_month'].apply(lambda x: 1 if 5 < x <= 8 else 0)\n",
        "    df[prefix + '_Q4']                = df[prefix + '_month'].apply(lambda x: 1 if 8 < x <= 11 else 0)\n",
        "    \n",
        "    #0,1,2  3,4,5  6,7,8  9,10,11   :: Quarters indexed at 0\n",
        "    \n",
        "    return\n",
        "\n"
      ],
      "execution_count": 23,
      "outputs": []
    },
    {
      "cell_type": "code",
      "metadata": {
        "colab": {
          "base_uri": "https://localhost:8080/",
          "height": 304
        },
        "id": "pcB8yi1OPgeX",
        "outputId": "27facb5d-b9d4-49eb-ea17-ea0da254e665"
      },
      "source": [
        "date_quarter_encoder(df1,'launched_at', 'start')\n",
        "date_quarter_encoder(df1,'deadline', 'end')\n",
        "\n",
        "df1.head(1)"
      ],
      "execution_count": 24,
      "outputs": [
        {
          "output_type": "execute_result",
          "data": {
            "text/html": [
              "<div>\n",
              "<style scoped>\n",
              "    .dataframe tbody tr th:only-of-type {\n",
              "        vertical-align: middle;\n",
              "    }\n",
              "\n",
              "    .dataframe tbody tr th {\n",
              "        vertical-align: top;\n",
              "    }\n",
              "\n",
              "    .dataframe thead th {\n",
              "        text-align: right;\n",
              "    }\n",
              "</style>\n",
              "<table border=\"1\" class=\"dataframe\">\n",
              "  <thead>\n",
              "    <tr style=\"text-align: right;\">\n",
              "      <th></th>\n",
              "      <th>Unnamed: 0</th>\n",
              "      <th>id</th>\n",
              "      <th>name</th>\n",
              "      <th>currency</th>\n",
              "      <th>launched_at</th>\n",
              "      <th>backers_count</th>\n",
              "      <th>blurb</th>\n",
              "      <th>country</th>\n",
              "      <th>deadline</th>\n",
              "      <th>status</th>\n",
              "      <th>usd_pledged</th>\n",
              "      <th>sub_category</th>\n",
              "      <th>main_category</th>\n",
              "      <th>creator_id</th>\n",
              "      <th>blurb_length</th>\n",
              "      <th>goal_usd</th>\n",
              "      <th>city</th>\n",
              "      <th>duration</th>\n",
              "      <th>is_project</th>\n",
              "      <th>is_succ</th>\n",
              "      <th>start_month</th>\n",
              "      <th>start_week</th>\n",
              "      <th>start_year</th>\n",
              "      <th>start_day</th>\n",
              "      <th>start_is_weekend</th>\n",
              "      <th>start_Q1</th>\n",
              "      <th>start_Q2</th>\n",
              "      <th>start_Q3</th>\n",
              "      <th>start_Q4</th>\n",
              "      <th>end_month</th>\n",
              "      <th>end_week</th>\n",
              "      <th>end_year</th>\n",
              "      <th>end_day</th>\n",
              "      <th>end_is_weekend</th>\n",
              "      <th>end_Q1</th>\n",
              "      <th>end_Q2</th>\n",
              "      <th>end_Q3</th>\n",
              "      <th>end_Q4</th>\n",
              "    </tr>\n",
              "  </thead>\n",
              "  <tbody>\n",
              "    <tr>\n",
              "      <th>0</th>\n",
              "      <td>0</td>\n",
              "      <td>1504859185</td>\n",
              "      <td>Industrial Bamboo Table</td>\n",
              "      <td>USD</td>\n",
              "      <td>2016-11-05 18:42:00</td>\n",
              "      <td>1</td>\n",
              "      <td>An eco-friendly coffee table that is both functional and beautiful. This table will be long last...</td>\n",
              "      <td>US</td>\n",
              "      <td>2016-12-05 19:42:00</td>\n",
              "      <td>failed</td>\n",
              "      <td>240.0</td>\n",
              "      <td>crafts</td>\n",
              "      <td>Woodworking</td>\n",
              "      <td>983022919</td>\n",
              "      <td>127</td>\n",
              "      <td>5,000.0</td>\n",
              "      <td>Austin</td>\n",
              "      <td>30</td>\n",
              "      <td>1</td>\n",
              "      <td>0</td>\n",
              "      <td>11</td>\n",
              "      <td>44</td>\n",
              "      <td>2016</td>\n",
              "      <td>5</td>\n",
              "      <td>1</td>\n",
              "      <td>0</td>\n",
              "      <td>0</td>\n",
              "      <td>0</td>\n",
              "      <td>1</td>\n",
              "      <td>12</td>\n",
              "      <td>49</td>\n",
              "      <td>2016</td>\n",
              "      <td>0</td>\n",
              "      <td>0</td>\n",
              "      <td>0</td>\n",
              "      <td>0</td>\n",
              "      <td>0</td>\n",
              "      <td>0</td>\n",
              "    </tr>\n",
              "  </tbody>\n",
              "</table>\n",
              "</div>"
            ],
            "text/plain": [
              "   Unnamed: 0          id                     name currency  \\\n",
              "0           0  1504859185  Industrial Bamboo Table      USD   \n",
              "\n",
              "          launched_at  backers_count  \\\n",
              "0 2016-11-05 18:42:00              1   \n",
              "\n",
              "                                                                                                 blurb  \\\n",
              "0  An eco-friendly coffee table that is both functional and beautiful. This table will be long last...   \n",
              "\n",
              "  country            deadline  status  usd_pledged sub_category main_category  \\\n",
              "0      US 2016-12-05 19:42:00  failed        240.0       crafts   Woodworking   \n",
              "\n",
              "   creator_id  blurb_length  goal_usd    city  duration  is_project  is_succ  \\\n",
              "0   983022919           127   5,000.0  Austin        30           1        0   \n",
              "\n",
              "   start_month  start_week  start_year  start_day  start_is_weekend  start_Q1  \\\n",
              "0           11          44        2016          5                 1         0   \n",
              "\n",
              "   start_Q2  start_Q3  start_Q4  end_month  end_week  end_year  end_day  \\\n",
              "0         0         0         1         12        49      2016        0   \n",
              "\n",
              "   end_is_weekend  end_Q1  end_Q2  end_Q3  end_Q4  \n",
              "0               0       0       0       0       0  "
            ]
          },
          "metadata": {
            "tags": []
          },
          "execution_count": 24
        }
      ]
    },
    {
      "cell_type": "markdown",
      "metadata": {
        "id": "gDfChye-PgeY"
      },
      "source": [
        "<p> Our main interest at this time is what projects succeed and which fail.  We can see this information contained in the 'status' column.\n",
        " The column is a categorical object and we can list the types of entries, in this case we see 5 individual types.</p>"
      ]
    },
    {
      "cell_type": "code",
      "metadata": {
        "id": "m2cd_xW3PgeY"
      },
      "source": [
        "# df1.status.unique()"
      ],
      "execution_count": 25,
      "outputs": []
    },
    {
      "cell_type": "code",
      "metadata": {
        "colab": {
          "base_uri": "https://localhost:8080/",
          "height": 351
        },
        "id": "w_z79mdhPgeY",
        "outputId": "3ca35e3b-19c1-44d5-8510-7bb3eeb9917a"
      },
      "source": [
        "# Viewing a basic bar plot of the status column\n",
        "\n",
        "df1['status'].value_counts().plot(kind='bar', title='Status Categorical Variable')"
      ],
      "execution_count": 26,
      "outputs": [
        {
          "output_type": "execute_result",
          "data": {
            "text/plain": [
              "<matplotlib.axes._subplots.AxesSubplot at 0x7fb0ae4a7390>"
            ]
          },
          "metadata": {
            "tags": []
          },
          "execution_count": 26
        },
        {
          "output_type": "display_data",
          "data": {
            "image/png": "[encoded data removed]",
            "text/plain": [
              "<Figure size 432x288 with 1 Axes>"
            ]
          },
          "metadata": {
            "tags": []
          }
        }
      ]
    },
    {
      "cell_type": "markdown",
      "metadata": {
        "id": "QiUOgte1PgeZ"
      },
      "source": [
        "<p>The 5 types of 'status' represent the various states that a project can be in.  It can have reach or surpassed its funding goal and be successful, currently in process of funding and 'live', or it can be one of three failure modes:  'failed, 'canceled', or 'suspended'.  We will drop 'live' campaigns from the dataset in the code below as the success or failure of those is undetermined using this dataset </p>"
      ]
    },
    {
      "cell_type": "code",
      "metadata": {
        "id": "hrT-Zs8KPgeZ"
      },
      "source": [
        "# Drop live cmapigns as the success or failure of those is undetermined using this dataset\n",
        "df1.drop(df1[df1['status'] == 'live'].index, inplace=True)"
      ],
      "execution_count": 27,
      "outputs": []
    },
    {
      "cell_type": "code",
      "metadata": {
        "colab": {
          "base_uri": "https://localhost:8080/",
          "height": 622
        },
        "id": "KVfrD47LPgeZ",
        "outputId": "f1a6fe9b-4bc2-4543-a928-cd971e10bd5a"
      },
      "source": [
        "# Check the percentages of the categorical variables in status.\n",
        "\n",
        "plt.rcParams['font.size'] = 24\n",
        "figsize = (10,15)\n",
        "df1.groupby('status').size().plot(kind='pie', autopct='%.2f%%', textprops={'fontsize': 20},\n",
        "                                  colors=['orange', 'red', 'lightgreen','black'], legend=False, figsize=figsize, \n",
        "                                  title='Percentage Breakdown of Campaign Outcome',\n",
        "                                 ylabel='')\n"
      ],
      "execution_count": 28,
      "outputs": [
        {
          "output_type": "execute_result",
          "data": {
            "text/plain": [
              "<matplotlib.axes._subplots.AxesSubplot at 0x7fb0ae46f470>"
            ]
          },
          "metadata": {
            "tags": []
          },
          "execution_count": 28
        },
        {
          "output_type": "display_data",
          "data": {
            "image/png": "[encoded data removed]",
            "text/plain": [
              "<Figure size 720x1080 with 1 Axes>"
            ]
          },
          "metadata": {
            "tags": []
          }
        }
      ]
    },
    {
      "cell_type": "markdown",
      "metadata": {
        "id": "hvxpv5r0Pgea"
      },
      "source": [
        "<p>\n",
        "We can see that ~58% of the total amount of projects are sucessful over time, due to the business model, it would be\n",
        "ideal if we could find patterns in the data that could determine wether or not, at a macro level, the campaign has\n",
        "a higher percentage of success.  These projects could be further promoted on the the platform through targeted email\n",
        "campaigns or some other means of digital marketing.\n",
        "</p>\n"
      ]
    },
    {
      "cell_type": "markdown",
      "metadata": {
        "id": "3kV-9C8YPgeb"
      },
      "source": [
        "### Barchart of how many Projects per Year in Total were on the platform."
      ]
    },
    {
      "cell_type": "code",
      "metadata": {
        "colab": {
          "base_uri": "https://localhost:8080/",
          "height": 444
        },
        "id": "mcyN-7-ZPgeb",
        "outputId": "56123bc7-d630-44e4-d79a-8a5dfff42eba"
      },
      "source": [
        "#plot of how many projects per year there were in total\n",
        "\n",
        "figsize = (10,6)\n",
        "df_years = df1.groupby('start_year', as_index=False)['is_project'].sum()\n",
        "df_years.plot(kind='bar', x='start_year', y='is_project', figsize=figsize, title='Number of Projects by Year')"
      ],
      "execution_count": 29,
      "outputs": [
        {
          "output_type": "execute_result",
          "data": {
            "text/plain": [
              "<matplotlib.axes._subplots.AxesSubplot at 0x7fb0ae424d30>"
            ]
          },
          "metadata": {
            "tags": []
          },
          "execution_count": 29
        },
        {
          "output_type": "display_data",
          "data": {
            "image/png": "[encoded data removed]",
            "text/plain": [
              "<Figure size 720x432 with 1 Axes>"
            ]
          },
          "metadata": {
            "tags": []
          }
        }
      ]
    },
    {
      "cell_type": "markdown",
      "metadata": {
        "id": "DHIozHw8Pgeb"
      },
      "source": [
        "\n",
        "#### Note: 2019 has very little data, mainly because we dropped all the live data earlier so we will drop 2019 from the analysis.\n"
      ]
    },
    {
      "cell_type": "code",
      "metadata": {
        "colab": {
          "base_uri": "https://localhost:8080/",
          "height": 444
        },
        "id": "wg1H017XPgec",
        "outputId": "9ffcd21e-4fe2-4113-8126-6c661a5d478c"
      },
      "source": [
        "df1.drop(df1[df1['start_year'] == 2019].index, inplace=True)\n",
        "figsize = (10,6)\n",
        "df_years = df1.groupby('start_year', as_index=False)['is_project'].sum()\n",
        "df_years.plot(kind='bar', x='start_year', y='is_project', figsize=figsize, title='Number of Projects by Year, 2019 dropped')"
      ],
      "execution_count": 50,
      "outputs": [
        {
          "output_type": "execute_result",
          "data": {
            "text/plain": [
              "<matplotlib.axes._subplots.AxesSubplot at 0x7fb0adb8f9e8>"
            ]
          },
          "metadata": {
            "tags": []
          },
          "execution_count": 50
        },
        {
          "output_type": "display_data",
          "data": {
            "image/png": "[encoded data removed]",
            "text/plain": [
              "<Figure size 720x432 with 1 Axes>"
            ]
          },
          "metadata": {
            "tags": []
          }
        }
      ]
    },
    {
      "cell_type": "markdown",
      "metadata": {
        "id": "-35GvqboPgec"
      },
      "source": [
        "<p>\n",
        "It is interesting to note the very noticable decline in total number of projects from 2015 to 2017. \n",
        "Let us take a closer look at the percentages of failures to total projects across time.\n",
        "\n",
        "</p>"
      ]
    },
    {
      "cell_type": "code",
      "metadata": {
        "colab": {
          "base_uri": "https://localhost:8080/",
          "height": 444
        },
        "id": "41SKMRv_Pgec",
        "outputId": "639d1400-3896-4ada-bf05-ecd1e25235d3"
      },
      "source": [
        "df_compare = df1[['start_year', 'is_project', 'is_succ' ]]\n",
        "df_compare = df_compare.groupby('start_year', as_index=False)['is_project','is_succ'].sum()\n",
        "df_compare.plot(kind='bar', x='start_year', figsize=(10,6), title='Comparison of Successful v Total Projects by Year')\n",
        "# ax = df_compare.plot.bar(x='start_year',stacked=True, figsize=(10,6))\n"
      ],
      "execution_count": 51,
      "outputs": [
        {
          "output_type": "execute_result",
          "data": {
            "text/plain": [
              "<matplotlib.axes._subplots.AxesSubplot at 0x7fb0adb67ef0>"
            ]
          },
          "metadata": {
            "tags": []
          },
          "execution_count": 51
        },
        {
          "output_type": "display_data",
          "data": {
            "image/png": "[encoded data removed]",
            "text/plain": [
              "<Figure size 720x432 with 1 Axes>"
            ]
          },
          "metadata": {
            "tags": []
          }
        }
      ]
    },
    {
      "cell_type": "code",
      "metadata": {
        "colab": {
          "base_uri": "https://localhost:8080/",
          "height": 359
        },
        "id": "vRhwx0ZLPged",
        "outputId": "ac488844-e4a5-4fcb-cd75-59df0a42662d"
      },
      "source": [
        "df_compare['pct_win'] = round(df_compare['is_succ'] / df_compare['is_project'],2)\n",
        "df_compare"
      ],
      "execution_count": 52,
      "outputs": [
        {
          "output_type": "execute_result",
          "data": {
            "text/html": [
              "<div>\n",
              "<style scoped>\n",
              "    .dataframe tbody tr th:only-of-type {\n",
              "        vertical-align: middle;\n",
              "    }\n",
              "\n",
              "    .dataframe tbody tr th {\n",
              "        vertical-align: top;\n",
              "    }\n",
              "\n",
              "    .dataframe thead th {\n",
              "        text-align: right;\n",
              "    }\n",
              "</style>\n",
              "<table border=\"1\" class=\"dataframe\">\n",
              "  <thead>\n",
              "    <tr style=\"text-align: right;\">\n",
              "      <th></th>\n",
              "      <th>start_year</th>\n",
              "      <th>is_project</th>\n",
              "      <th>is_succ</th>\n",
              "      <th>pct_win</th>\n",
              "    </tr>\n",
              "  </thead>\n",
              "  <tbody>\n",
              "    <tr>\n",
              "      <th>0</th>\n",
              "      <td>2009</td>\n",
              "      <td>234</td>\n",
              "      <td>183</td>\n",
              "      <td>0.78</td>\n",
              "    </tr>\n",
              "    <tr>\n",
              "      <th>1</th>\n",
              "      <td>2010</td>\n",
              "      <td>1449</td>\n",
              "      <td>1075</td>\n",
              "      <td>0.74</td>\n",
              "    </tr>\n",
              "    <tr>\n",
              "      <th>2</th>\n",
              "      <td>2011</td>\n",
              "      <td>4351</td>\n",
              "      <td>3320</td>\n",
              "      <td>0.76</td>\n",
              "    </tr>\n",
              "    <tr>\n",
              "      <th>3</th>\n",
              "      <td>2012</td>\n",
              "      <td>8862</td>\n",
              "      <td>6795</td>\n",
              "      <td>0.77</td>\n",
              "    </tr>\n",
              "    <tr>\n",
              "      <th>4</th>\n",
              "      <td>2013</td>\n",
              "      <td>11657</td>\n",
              "      <td>9132</td>\n",
              "      <td>0.78</td>\n",
              "    </tr>\n",
              "    <tr>\n",
              "      <th>5</th>\n",
              "      <td>2014</td>\n",
              "      <td>28565</td>\n",
              "      <td>14568</td>\n",
              "      <td>0.51</td>\n",
              "    </tr>\n",
              "    <tr>\n",
              "      <th>6</th>\n",
              "      <td>2015</td>\n",
              "      <td>39799</td>\n",
              "      <td>17115</td>\n",
              "      <td>0.43</td>\n",
              "    </tr>\n",
              "    <tr>\n",
              "      <th>7</th>\n",
              "      <td>2016</td>\n",
              "      <td>30929</td>\n",
              "      <td>14856</td>\n",
              "      <td>0.48</td>\n",
              "    </tr>\n",
              "    <tr>\n",
              "      <th>8</th>\n",
              "      <td>2017</td>\n",
              "      <td>33200</td>\n",
              "      <td>18691</td>\n",
              "      <td>0.56</td>\n",
              "    </tr>\n",
              "    <tr>\n",
              "      <th>9</th>\n",
              "      <td>2018</td>\n",
              "      <td>43853</td>\n",
              "      <td>32410</td>\n",
              "      <td>0.74</td>\n",
              "    </tr>\n",
              "  </tbody>\n",
              "</table>\n",
              "</div>"
            ],
            "text/plain": [
              "   start_year  is_project  is_succ  pct_win\n",
              "0        2009         234      183     0.78\n",
              "1        2010        1449     1075     0.74\n",
              "2        2011        4351     3320     0.76\n",
              "3        2012        8862     6795     0.77\n",
              "4        2013       11657     9132     0.78\n",
              "5        2014       28565    14568     0.51\n",
              "6        2015       39799    17115     0.43\n",
              "7        2016       30929    14856     0.48\n",
              "8        2017       33200    18691     0.56\n",
              "9        2018       43853    32410     0.74"
            ]
          },
          "metadata": {
            "tags": []
          },
          "execution_count": 52
        }
      ]
    },
    {
      "cell_type": "markdown",
      "metadata": {
        "id": "TLObnMCQPged"
      },
      "source": [
        "<p>\n",
        "One can see in the chart and the table above that the success rates in the years from 2014 to 2017 dropped signifigantly\n",
        "as well as the overall total number of projects hosted on the site.  There could be a potential mulitude of reasons for this \n",
        "from competition in the space to nefarious or non-serious creators using the site a s a quick way to make capital.\n",
        "</p>"
      ]
    },
    {
      "cell_type": "markdown",
      "metadata": {
        "id": "1j7aAXbKPged"
      },
      "source": [
        "### Looking at Kickstarter Gross Revenue\n",
        "#### According to Kickstarter website the company takes a 5% cut of all campaigns who reach or surpass the targeted goal amount"
      ]
    },
    {
      "cell_type": "code",
      "metadata": {
        "id": "zCYqzicUPgee"
      },
      "source": [
        "# split the data set into winners and losers for further analysis\n",
        "\n",
        "ks_win = df1[df1['status'] == 'successful']\n",
        "ks_lose = df1[df1['status'] != 'successful']\n",
        "\n",
        "#print(len(ks_win) / len(df1))  #quick check to make sure we captured correct data"
      ],
      "execution_count": 53,
      "outputs": []
    },
    {
      "cell_type": "code",
      "metadata": {
        "colab": {
          "base_uri": "https://localhost:8080/"
        },
        "id": "FPIcUdZZPgee",
        "outputId": "b6e0fa74-aad2-4e1d-b9d6-d560f7a3c78e"
      },
      "source": [
        "# Revenue by Year\n",
        "\n",
        "print('Total Dollars Pledged to Winning Campaigns: ',round(ks_win['usd_pledged'].sum(),0))\n",
        "print('Kickstarter Total Income assuming 5% fee of Winning Campaigns: ', round(.05 * ks_win['usd_pledged'].sum(),0))"
      ],
      "execution_count": 54,
      "outputs": [
        {
          "output_type": "stream",
          "text": [
            "Total Dollars Pledged to Winning Campaigns:  2611258107.0\n",
            "Kickstarter Total Income assuming 5% fee of Winning Campaigns:  130562905.0\n"
          ],
          "name": "stdout"
        }
      ]
    },
    {
      "cell_type": "code",
      "metadata": {
        "colab": {
          "base_uri": "https://localhost:8080/",
          "height": 359
        },
        "id": "zvY69AA0Pgee",
        "outputId": "99caedc3-14b5-449f-db81-c6671dd45cd7"
      },
      "source": [
        "ks_win_dollars = ks_win.groupby('start_year', as_index=False)['usd_pledged'].sum()\n",
        "ks_win_dollars['usd_pledged'] = round(ks_win_dollars['usd_pledged'])\n",
        "ks_win_dollars['ks_fee_5%_in_millions'] = round((ks_win_dollars['usd_pledged'] * .05) / 1000000,2)\n",
        "ks_win_dollars"
      ],
      "execution_count": 55,
      "outputs": [
        {
          "output_type": "execute_result",
          "data": {
            "text/html": [
              "<div>\n",
              "<style scoped>\n",
              "    .dataframe tbody tr th:only-of-type {\n",
              "        vertical-align: middle;\n",
              "    }\n",
              "\n",
              "    .dataframe tbody tr th {\n",
              "        vertical-align: top;\n",
              "    }\n",
              "\n",
              "    .dataframe thead th {\n",
              "        text-align: right;\n",
              "    }\n",
              "</style>\n",
              "<table border=\"1\" class=\"dataframe\">\n",
              "  <thead>\n",
              "    <tr style=\"text-align: right;\">\n",
              "      <th></th>\n",
              "      <th>start_year</th>\n",
              "      <th>usd_pledged</th>\n",
              "      <th>ks_fee_5%_in_millions</th>\n",
              "    </tr>\n",
              "  </thead>\n",
              "  <tbody>\n",
              "    <tr>\n",
              "      <th>0</th>\n",
              "      <td>2009</td>\n",
              "      <td>788,848.0</td>\n",
              "      <td>0.04</td>\n",
              "    </tr>\n",
              "    <tr>\n",
              "      <th>1</th>\n",
              "      <td>2010</td>\n",
              "      <td>6,336,757.0</td>\n",
              "      <td>0.32</td>\n",
              "    </tr>\n",
              "    <tr>\n",
              "      <th>2</th>\n",
              "      <td>2011</td>\n",
              "      <td>23,010,376.0</td>\n",
              "      <td>1.15</td>\n",
              "    </tr>\n",
              "    <tr>\n",
              "      <th>3</th>\n",
              "      <td>2012</td>\n",
              "      <td>83,009,548.0</td>\n",
              "      <td>4.15</td>\n",
              "    </tr>\n",
              "    <tr>\n",
              "      <th>4</th>\n",
              "      <td>2013</td>\n",
              "      <td>192,176,214.0</td>\n",
              "      <td>9.61</td>\n",
              "    </tr>\n",
              "    <tr>\n",
              "      <th>5</th>\n",
              "      <td>2014</td>\n",
              "      <td>243,111,759.0</td>\n",
              "      <td>12.16</td>\n",
              "    </tr>\n",
              "    <tr>\n",
              "      <th>6</th>\n",
              "      <td>2015</td>\n",
              "      <td>335,226,984.0</td>\n",
              "      <td>16.76</td>\n",
              "    </tr>\n",
              "    <tr>\n",
              "      <th>7</th>\n",
              "      <td>2016</td>\n",
              "      <td>294,979,661.0</td>\n",
              "      <td>14.75</td>\n",
              "    </tr>\n",
              "    <tr>\n",
              "      <th>8</th>\n",
              "      <td>2017</td>\n",
              "      <td>474,845,647.0</td>\n",
              "      <td>23.74</td>\n",
              "    </tr>\n",
              "    <tr>\n",
              "      <th>9</th>\n",
              "      <td>2018</td>\n",
              "      <td>957,772,313.0</td>\n",
              "      <td>47.89</td>\n",
              "    </tr>\n",
              "  </tbody>\n",
              "</table>\n",
              "</div>"
            ],
            "text/plain": [
              "   start_year   usd_pledged  ks_fee_5%_in_millions\n",
              "0        2009     788,848.0                   0.04\n",
              "1        2010   6,336,757.0                   0.32\n",
              "2        2011  23,010,376.0                   1.15\n",
              "3        2012  83,009,548.0                   4.15\n",
              "4        2013 192,176,214.0                   9.61\n",
              "5        2014 243,111,759.0                  12.16\n",
              "6        2015 335,226,984.0                  16.76\n",
              "7        2016 294,979,661.0                  14.75\n",
              "8        2017 474,845,647.0                  23.74\n",
              "9        2018 957,772,313.0                  47.89"
            ]
          },
          "metadata": {
            "tags": []
          },
          "execution_count": 55
        }
      ]
    },
    {
      "cell_type": "code",
      "metadata": {
        "colab": {
          "base_uri": "https://localhost:8080/",
          "height": 444
        },
        "id": "DpG4dFmmPgef",
        "outputId": "ca6f7535-8bfe-4fdd-b5b4-2952e197b58a"
      },
      "source": [
        "figsize = (10,6)\n",
        "ks_win_dollars.plot(kind='bar', x='start_year', y='ks_fee_5%_in_millions', \n",
        "                    figsize=figsize, title = 'Kickstarter Revenue in Millions')"
      ],
      "execution_count": 56,
      "outputs": [
        {
          "output_type": "execute_result",
          "data": {
            "text/plain": [
              "<matplotlib.axes._subplots.AxesSubplot at 0x7fb0adb1b390>"
            ]
          },
          "metadata": {
            "tags": []
          },
          "execution_count": 56
        },
        {
          "output_type": "display_data",
          "data": {
            "image/png": "[encoded data removed]",
            "text/plain": [
              "<Figure size 720x432 with 1 Axes>"
            ]
          },
          "metadata": {
            "tags": []
          }
        }
      ]
    },
    {
      "cell_type": "markdown",
      "metadata": {
        "id": "vkvsyuuSPgef"
      },
      "source": [
        "<p>\n",
        "One observed earlier that total amount of projects declined before rising again in 2018 but Kickstarter managed to raise \n",
        "much more revenue in 2018 than previously.  Clearly there were many more successful / profitable projects as time went on.\n",
        "</p>"
      ]
    },
    {
      "cell_type": "markdown",
      "metadata": {
        "id": "vcxW2hj2Pgef"
      },
      "source": [
        "<p>\n",
        "Clearly, there are more complex dynamics at play than just the raw number of projects available on the platform.  To further investigate the mystery of the increased success rate rebound it would perhaps benefit one to look into the actual goal amounts to be raised.\n",
        "</p>\n",
        "\n",
        "___"
      ]
    },
    {
      "cell_type": "markdown",
      "metadata": {
        "id": "fOFOTj--Pgeg"
      },
      "source": [
        "## Boxplot to investigate the mean of project funding goals."
      ]
    },
    {
      "cell_type": "code",
      "metadata": {
        "colab": {
          "base_uri": "https://localhost:8080/"
        },
        "id": "uvjxcIdXPgeg",
        "outputId": "2177a9f3-bbef-48fa-ad97-f269c0b25165"
      },
      "source": [
        "goals_info = round(df1['goal_usd'].describe())\n",
        "goals_info"
      ],
      "execution_count": 57,
      "outputs": [
        {
          "output_type": "execute_result",
          "data": {
            "text/plain": [
              "count       202,899.0\n",
              "mean         40,649.0\n",
              "std       1,108,574.0\n",
              "min               0.0\n",
              "25%           1,500.0\n",
              "50%           5,000.0\n",
              "75%          12,857.0\n",
              "max     128,567,921.0\n",
              "Name: goal_usd, dtype: float64"
            ]
          },
          "metadata": {
            "tags": []
          },
          "execution_count": 57
        }
      ]
    },
    {
      "cell_type": "markdown",
      "metadata": {
        "id": "_oRm1e4VPgeg"
      },
      "source": [
        "<p>\n",
        "One can see the mean of approximately \\$40,000, but a standard deviation of \\$1.1 million, this implies a highly skewed distribution of \n",
        "potential goal amounts. One can also observe that the goal data spans an enormous range of values from \\$.70 to \\$128 million.  It may be necessary to log-transform the data or select a methodology to remove outliers.\n",
        "    \n",
        "Initially, a log-transfrom will be done to maintain the integrity of the data and remove any bias in what constitutes an outlier.\n",
        "</p>"
      ]
    },
    {
      "cell_type": "code",
      "metadata": {
        "id": "OAT9g4TMPgeg"
      },
      "source": [
        "# To scale the data better for plotting log transformation is completed\n",
        "\n",
        "df1['goal_log'] = np.log(df1['goal_usd'] + 1)"
      ],
      "execution_count": 58,
      "outputs": []
    },
    {
      "cell_type": "code",
      "metadata": {
        "colab": {
          "base_uri": "https://localhost:8080/",
          "height": 573
        },
        "id": "MFZ_xeZRPgeh",
        "outputId": "5133410b-cda1-4194-e5b8-b24711b58134"
      },
      "source": [
        "# Boxplot of Goal Amount by Year\n",
        "\n",
        "sns.set(rc={'figure.figsize':(15,9)})\n",
        "\n",
        "ax = sns.boxplot(x='start_year', y='goal_log', data=df1,\n",
        "                showmeans=True,             \n",
        "                meanprops={\"marker\":\"o\",\n",
        "                       \"markerfacecolor\":\"white\", \n",
        "                       \"markeredgecolor\":\"black\",\n",
        "                      \"markersize\":\"10\"}\n",
        "                ).set_title('Goal Amount(log) by Year')"
      ],
      "execution_count": 59,
      "outputs": [
        {
          "output_type": "display_data",
          "data": {
            "image/png": "[encoded data removed]",
            "text/plain": [
              "<Figure size 1080x648 with 1 Axes>"
            ]
          },
          "metadata": {
            "tags": []
          }
        }
      ]
    },
    {
      "cell_type": "code",
      "metadata": {
        "colab": {
          "base_uri": "https://localhost:8080/",
          "height": 608
        },
        "id": "X6hsk2u2Pgeh",
        "outputId": "c58a9ed4-e346-4c34-ee54-fa8ca1ee16d7"
      },
      "source": [
        "df_goal_means = df1.groupby('start_year', as_index=False)['goal_usd'].mean()\n",
        "df_goal_means['goal_usd'] = round(df_goal_means['goal_usd'])\n",
        "df_goal_means.plot(kind='bar',x='start_year', y='goal_usd', color='purple', alpha=.5, title='Mean Goal Amount by Year')"
      ],
      "execution_count": 60,
      "outputs": [
        {
          "output_type": "execute_result",
          "data": {
            "text/plain": [
              "<matplotlib.axes._subplots.AxesSubplot at 0x7fb0adb15c50>"
            ]
          },
          "metadata": {
            "tags": []
          },
          "execution_count": 60
        },
        {
          "output_type": "display_data",
          "data": {
            "image/png": "[encoded data removed]",
            "text/plain": [
              "<Figure size 1080x648 with 1 Axes>"
            ]
          },
          "metadata": {
            "tags": []
          }
        }
      ]
    },
    {
      "cell_type": "code",
      "metadata": {
        "colab": {
          "base_uri": "https://localhost:8080/",
          "height": 359
        },
        "id": "Dr91pfiTPgeh",
        "outputId": "b4734e39-2b98-4dee-a228-a2eea990a809"
      },
      "source": [
        "#List of goal amounts by year\n",
        "\n",
        "df_goal_means"
      ],
      "execution_count": 61,
      "outputs": [
        {
          "output_type": "execute_result",
          "data": {
            "text/html": [
              "<div>\n",
              "<style scoped>\n",
              "    .dataframe tbody tr th:only-of-type {\n",
              "        vertical-align: middle;\n",
              "    }\n",
              "\n",
              "    .dataframe tbody tr th {\n",
              "        vertical-align: top;\n",
              "    }\n",
              "\n",
              "    .dataframe thead th {\n",
              "        text-align: right;\n",
              "    }\n",
              "</style>\n",
              "<table border=\"1\" class=\"dataframe\">\n",
              "  <thead>\n",
              "    <tr style=\"text-align: right;\">\n",
              "      <th></th>\n",
              "      <th>start_year</th>\n",
              "      <th>goal_usd</th>\n",
              "    </tr>\n",
              "  </thead>\n",
              "  <tbody>\n",
              "    <tr>\n",
              "      <th>0</th>\n",
              "      <td>2009</td>\n",
              "      <td>4,075.0</td>\n",
              "    </tr>\n",
              "    <tr>\n",
              "      <th>1</th>\n",
              "      <td>2010</td>\n",
              "      <td>5,403.0</td>\n",
              "    </tr>\n",
              "    <tr>\n",
              "      <th>2</th>\n",
              "      <td>2011</td>\n",
              "      <td>6,466.0</td>\n",
              "    </tr>\n",
              "    <tr>\n",
              "      <th>3</th>\n",
              "      <td>2012</td>\n",
              "      <td>10,033.0</td>\n",
              "    </tr>\n",
              "    <tr>\n",
              "      <th>4</th>\n",
              "      <td>2013</td>\n",
              "      <td>14,035.0</td>\n",
              "    </tr>\n",
              "    <tr>\n",
              "      <th>5</th>\n",
              "      <td>2014</td>\n",
              "      <td>41,058.0</td>\n",
              "    </tr>\n",
              "    <tr>\n",
              "      <th>6</th>\n",
              "      <td>2015</td>\n",
              "      <td>70,579.0</td>\n",
              "    </tr>\n",
              "    <tr>\n",
              "      <th>7</th>\n",
              "      <td>2016</td>\n",
              "      <td>56,809.0</td>\n",
              "    </tr>\n",
              "    <tr>\n",
              "      <th>8</th>\n",
              "      <td>2017</td>\n",
              "      <td>45,126.0</td>\n",
              "    </tr>\n",
              "    <tr>\n",
              "      <th>9</th>\n",
              "      <td>2018</td>\n",
              "      <td>16,447.0</td>\n",
              "    </tr>\n",
              "  </tbody>\n",
              "</table>\n",
              "</div>"
            ],
            "text/plain": [
              "   start_year  goal_usd\n",
              "0        2009   4,075.0\n",
              "1        2010   5,403.0\n",
              "2        2011   6,466.0\n",
              "3        2012  10,033.0\n",
              "4        2013  14,035.0\n",
              "5        2014  41,058.0\n",
              "6        2015  70,579.0\n",
              "7        2016  56,809.0\n",
              "8        2017  45,126.0\n",
              "9        2018  16,447.0"
            ]
          },
          "metadata": {
            "tags": []
          },
          "execution_count": 61
        }
      ]
    },
    {
      "cell_type": "markdown",
      "metadata": {
        "id": "tMmyZcRhPgei"
      },
      "source": [
        "<p>\n",
        "As one can see, a difference in mean goal amounts is signifigantly lower in 2018, than in the most recent preceding years. This is potentially leading to increased success percentage of campaigns and hence more gross revenue for Kickstarter.  \n",
        "\n",
        "Also visible is the enormous range of potential outlier values skewing the dataset.  More work would need to be performed on analyzing the very high or low goals.\n",
        "    \n",
        "Furthering this intial study let us analyze the distributions of successful campaign goals versus unsuccessful ones.\n",
        "</p>"
      ]
    },
    {
      "cell_type": "code",
      "metadata": {
        "colab": {
          "base_uri": "https://localhost:8080/",
          "height": 573
        },
        "id": "AIn3Z2YxPgei",
        "outputId": "6ffa5285-20b8-421d-9f5e-95d97e2b9836"
      },
      "source": [
        "# Plot the distributions of the winners and loser goal amounts\n",
        "\n",
        "x1 = np.log(ks_win['goal_usd'] + 1)\n",
        "x2 = np.log(ks_lose['goal_usd'] + 1)\n",
        "\n",
        "x1_hist = x1.hist(bins = 20, color='blue',alpha=.5)\n",
        "x2_hist = x2.hist(bins = 20, color='red', alpha=.5)\n",
        "x1_hist.set_title('Histogram, Log Scaled, distributions of Successful(blue) v Unsuccessful(red) campaigns Goal amount')\n"
      ],
      "execution_count": 62,
      "outputs": [
        {
          "output_type": "execute_result",
          "data": {
            "text/plain": [
              "Text(0.5, 1.0, 'Histogram, Log Scaled, distributions of Successful(blue) v Unsuccessful(red) campaigns Goal amount')"
            ]
          },
          "metadata": {
            "tags": []
          },
          "execution_count": 62
        },
        {
          "output_type": "display_data",
          "data": {
            "image/png": "[encoded data removed]",
            "text/plain": [
              "<Figure size 1080x648 with 1 Axes>"
            ]
          },
          "metadata": {
            "tags": []
          }
        }
      ]
    },
    {
      "cell_type": "markdown",
      "metadata": {
        "id": "qCBWNjJMPgei"
      },
      "source": [
        "### It is visible in these overlapping distributions that the unsuccessful campaigns are right skewed.  Hence, unsuccessful campaigns seem to be initially asking for too much money for the potential value that the market sees from the end product.\n",
        "\n",
        "___"
      ]
    },
    {
      "cell_type": "markdown",
      "metadata": {
        "id": "eNelIIL_Pgei"
      },
      "source": [
        "## Goal amounts by category type: "
      ]
    },
    {
      "cell_type": "code",
      "metadata": {
        "colab": {
          "base_uri": "https://localhost:8080/",
          "height": 608
        },
        "id": "GQuvSkKhPgej",
        "outputId": "b39991a3-d5bb-455b-e283-7fdbb242382e"
      },
      "source": [
        "df_cat_goal_means = df1.groupby(['start_year','sub_category'], as_index=False)['goal_usd'].mean()\n",
        "df_cat_goal_means['goal_usd'] = df_cat_goal_means['goal_usd'] / 1000\n",
        "\n",
        "    \n",
        "sub_df = df_cat_goal_means.groupby(['start_year','sub_category'])['goal_usd'].sum().unstack()\n",
        "sub_df.plot(kind='bar',stacked=True, legend=True, title='Goal Amounts in $1,000s')\n",
        "# sub_df.legend(loc='best')"
      ],
      "execution_count": 63,
      "outputs": [
        {
          "output_type": "execute_result",
          "data": {
            "text/plain": [
              "<matplotlib.axes._subplots.AxesSubplot at 0x7fb0ad8c4080>"
            ]
          },
          "metadata": {
            "tags": []
          },
          "execution_count": 63
        },
        {
          "output_type": "display_data",
          "data": {
            "image/png": "[encoded data removed]",
            "text/plain": [
              "<Figure size 1080x648 with 1 Axes>"
            ]
          },
          "metadata": {
            "tags": []
          }
        }
      ]
    },
    {
      "cell_type": "markdown",
      "metadata": {
        "id": "W59HH0ZgPgej"
      },
      "source": [
        "<p>This graph, while interesting is a little complicated to read.  There are some patterns visible in the data however in terms of one being able to observe different categories growing and shrinking over time in the dataset.\n",
        "\n",
        "It is worth conitnuing to drill down into the dataset to analyze the goal amount by catergory to see if any interesting patterns emerge\n",
        "</p>"
      ]
    },
    {
      "cell_type": "code",
      "metadata": {
        "scrolled": false,
        "colab": {
          "base_uri": "https://localhost:8080/",
          "height": 573
        },
        "id": "9M7zWMOLPgej",
        "outputId": "6ae539fa-3cc7-4f3c-96e8-7e48f9a24e66"
      },
      "source": [
        "# log boxplot by category\n",
        "\n",
        "ax = sns.boxplot(x='sub_category', y='goal_log', data=df1, showmeans=True,             \n",
        "                    meanprops={\"marker\":\"o\",\n",
        "                       \"markerfacecolor\":\"white\", \n",
        "                       \"markeredgecolor\":\"black\",\n",
        "                      \"markersize\":\"10\"}).set_title(\"Goal(log) by Category\")\n",
        "\n"
      ],
      "execution_count": 64,
      "outputs": [
        {
          "output_type": "display_data",
          "data": {
            "image/png": "[encoded data removed]",
            "text/plain": [
              "<Figure size 1080x648 with 1 Axes>"
            ]
          },
          "metadata": {
            "tags": []
          }
        }
      ]
    },
    {
      "cell_type": "markdown",
      "metadata": {
        "id": "lE_W623RPgej"
      },
      "source": [
        "<p>\n",
        "Using the theory that lower goal thresholds equal more chances for success we will see if 'crafts' has a better success rate\n",
        "than 'tech' or 'food'\n",
        "</p>"
      ]
    },
    {
      "cell_type": "code",
      "metadata": {
        "id": "N4d2r4TIPgek"
      },
      "source": [
        "# custom function to calculate the win percentage of a category\n",
        "\n",
        "def cat_win_pct(df,cat):\n",
        "    df_x = df[df['sub_category'] == cat]\n",
        "    inital_shape = df_x.shape[0]\n",
        "    df_x = df_x.groupby('status', as_index=False).count().copy()\n",
        "    wc1 = (df_x[df_x[\"status\"] == \"successful\"][\"id\"].values[0])\n",
        "    craft_win_pct = wc1 / inital_shape\n",
        "    \n",
        "    return round(craft_win_pct,3)\n",
        "    "
      ],
      "execution_count": 65,
      "outputs": []
    },
    {
      "cell_type": "code",
      "metadata": {
        "id": "4cVjyvDwPgek"
      },
      "source": [
        "# For loop to calc win pct for each category\n",
        "\n",
        "cat_list = df1['sub_category'].unique()\n",
        "cat_output = []\n",
        "\n",
        "\n",
        "for cat in cat_list:\n",
        "    n = cat_win_pct(df1,cat)\n",
        "    cat_output.append(cat)\n",
        "    cat_output.append(n)\n"
      ],
      "execution_count": 46,
      "outputs": []
    },
    {
      "cell_type": "code",
      "metadata": {
        "id": "Z3PlCGKiPgek"
      },
      "source": [
        "# cuctome function to convert lists to dictionaries\n",
        "\n",
        "def Convert_to_dict(a):\n",
        "    it = iter(a)\n",
        "    res_dct = dict(zip(it, it))\n",
        "    return res_dct"
      ],
      "execution_count": 66,
      "outputs": []
    },
    {
      "cell_type": "code",
      "metadata": {
        "id": "U_FzBSRxPgek"
      },
      "source": [
        "cat_dict = Convert_to_dict(cat_output)\n"
      ],
      "execution_count": 67,
      "outputs": []
    },
    {
      "cell_type": "code",
      "metadata": {
        "colab": {
          "base_uri": "https://localhost:8080/",
          "height": 548
        },
        "id": "A3OlEmeqPgek",
        "outputId": "056971a5-5d28-48bf-f17a-ece309fcef00"
      },
      "source": [
        "# Build dataframe comparing goal means and win_pct for succesful projects\n",
        "\n",
        "dataset_mean = round(df1['goal_usd'].mean(),1)\n",
        "\n",
        "df_cat_glm = df1.groupby('sub_category', as_index=False)['goal_usd'].mean().copy()\n",
        "df_cat_glm['goal_usd'] = round(df_cat_glm['goal_usd'],0)\n",
        "df_cat_glm['dataset_goal_usd'] = round(dataset_mean,0)\n",
        "df_cat_glm['diff_usd'] = round(df_cat_glm['goal_usd'] - df_cat_glm['dataset_goal_usd'],0)\n",
        "df_cat_glm['win_pct'] = df_cat_glm['sub_category']\n",
        "df_cat_glm['win_pct'] = df_cat_glm.replace({'win_pct': cat_dict})\n",
        "\n",
        "df_cat_glm.replace({'win_pct': cat_dict}, inplace=True)\n",
        "# df_cat_glm.sort_values(by=['diff_usd'],inplace=True)\n",
        "\n",
        "print('\\nMean goals and differences vs entire dataset mean goal amount')\n",
        "df_cat_glm"
      ],
      "execution_count": 68,
      "outputs": [
        {
          "output_type": "stream",
          "text": [
            "\n",
            "Mean goals and differences vs entire dataset mean goal amount\n"
          ],
          "name": "stdout"
        },
        {
          "output_type": "execute_result",
          "data": {
            "text/html": [
              "<div>\n",
              "<style scoped>\n",
              "    .dataframe tbody tr th:only-of-type {\n",
              "        vertical-align: middle;\n",
              "    }\n",
              "\n",
              "    .dataframe tbody tr th {\n",
              "        vertical-align: top;\n",
              "    }\n",
              "\n",
              "    .dataframe thead th {\n",
              "        text-align: right;\n",
              "    }\n",
              "</style>\n",
              "<table border=\"1\" class=\"dataframe\">\n",
              "  <thead>\n",
              "    <tr style=\"text-align: right;\">\n",
              "      <th></th>\n",
              "      <th>sub_category</th>\n",
              "      <th>goal_usd</th>\n",
              "      <th>dataset_goal_usd</th>\n",
              "      <th>diff_usd</th>\n",
              "      <th>win_pct</th>\n",
              "    </tr>\n",
              "  </thead>\n",
              "  <tbody>\n",
              "    <tr>\n",
              "      <th>0</th>\n",
              "      <td>art</td>\n",
              "      <td>31,150.0</td>\n",
              "      <td>40,649.0</td>\n",
              "      <td>-9,499.0</td>\n",
              "      <td>0.573</td>\n",
              "    </tr>\n",
              "    <tr>\n",
              "      <th>1</th>\n",
              "      <td>comics</td>\n",
              "      <td>6,532.0</td>\n",
              "      <td>40,649.0</td>\n",
              "      <td>-34,117.0</td>\n",
              "      <td>0.806</td>\n",
              "    </tr>\n",
              "    <tr>\n",
              "      <th>2</th>\n",
              "      <td>crafts</td>\n",
              "      <td>8,412.0</td>\n",
              "      <td>40,649.0</td>\n",
              "      <td>-32,237.0</td>\n",
              "      <td>0.488</td>\n",
              "    </tr>\n",
              "    <tr>\n",
              "      <th>3</th>\n",
              "      <td>dance</td>\n",
              "      <td>7,542.0</td>\n",
              "      <td>40,649.0</td>\n",
              "      <td>-33,107.0</td>\n",
              "      <td>0.822</td>\n",
              "    </tr>\n",
              "    <tr>\n",
              "      <th>4</th>\n",
              "      <td>design</td>\n",
              "      <td>57,763.0</td>\n",
              "      <td>40,649.0</td>\n",
              "      <td>17,114.0</td>\n",
              "      <td>0.682</td>\n",
              "    </tr>\n",
              "    <tr>\n",
              "      <th>5</th>\n",
              "      <td>fashion</td>\n",
              "      <td>13,908.0</td>\n",
              "      <td>40,649.0</td>\n",
              "      <td>-26,741.0</td>\n",
              "      <td>0.599</td>\n",
              "    </tr>\n",
              "    <tr>\n",
              "      <th>6</th>\n",
              "      <td>film &amp; video</td>\n",
              "      <td>108,632.0</td>\n",
              "      <td>40,649.0</td>\n",
              "      <td>67,983.0</td>\n",
              "      <td>0.584</td>\n",
              "    </tr>\n",
              "    <tr>\n",
              "      <th>7</th>\n",
              "      <td>food</td>\n",
              "      <td>45,992.0</td>\n",
              "      <td>40,649.0</td>\n",
              "      <td>5,343.0</td>\n",
              "      <td>0.353</td>\n",
              "    </tr>\n",
              "    <tr>\n",
              "      <th>8</th>\n",
              "      <td>games</td>\n",
              "      <td>32,942.0</td>\n",
              "      <td>40,649.0</td>\n",
              "      <td>-7,707.0</td>\n",
              "      <td>0.657</td>\n",
              "    </tr>\n",
              "    <tr>\n",
              "      <th>9</th>\n",
              "      <td>journalism</td>\n",
              "      <td>82,463.0</td>\n",
              "      <td>40,649.0</td>\n",
              "      <td>41,814.0</td>\n",
              "      <td>0.312</td>\n",
              "    </tr>\n",
              "    <tr>\n",
              "      <th>10</th>\n",
              "      <td>music</td>\n",
              "      <td>11,601.0</td>\n",
              "      <td>40,649.0</td>\n",
              "      <td>-29,048.0</td>\n",
              "      <td>0.667</td>\n",
              "    </tr>\n",
              "    <tr>\n",
              "      <th>11</th>\n",
              "      <td>photography</td>\n",
              "      <td>11,598.0</td>\n",
              "      <td>40,649.0</td>\n",
              "      <td>-29,051.0</td>\n",
              "      <td>0.509</td>\n",
              "    </tr>\n",
              "    <tr>\n",
              "      <th>12</th>\n",
              "      <td>publishing</td>\n",
              "      <td>12,927.0</td>\n",
              "      <td>40,649.0</td>\n",
              "      <td>-27,722.0</td>\n",
              "      <td>0.703</td>\n",
              "    </tr>\n",
              "    <tr>\n",
              "      <th>13</th>\n",
              "      <td>technology</td>\n",
              "      <td>67,425.0</td>\n",
              "      <td>40,649.0</td>\n",
              "      <td>26,776.0</td>\n",
              "      <td>0.396</td>\n",
              "    </tr>\n",
              "    <tr>\n",
              "      <th>14</th>\n",
              "      <td>theater</td>\n",
              "      <td>33,314.0</td>\n",
              "      <td>40,649.0</td>\n",
              "      <td>-7,335.0</td>\n",
              "      <td>0.712</td>\n",
              "    </tr>\n",
              "  </tbody>\n",
              "</table>\n",
              "</div>"
            ],
            "text/plain": [
              "    sub_category  goal_usd  dataset_goal_usd  diff_usd  win_pct\n",
              "0            art  31,150.0          40,649.0  -9,499.0    0.573\n",
              "1         comics   6,532.0          40,649.0 -34,117.0    0.806\n",
              "2         crafts   8,412.0          40,649.0 -32,237.0    0.488\n",
              "3          dance   7,542.0          40,649.0 -33,107.0    0.822\n",
              "4         design  57,763.0          40,649.0  17,114.0    0.682\n",
              "5        fashion  13,908.0          40,649.0 -26,741.0    0.599\n",
              "6   film & video 108,632.0          40,649.0  67,983.0    0.584\n",
              "7           food  45,992.0          40,649.0   5,343.0    0.353\n",
              "8          games  32,942.0          40,649.0  -7,707.0    0.657\n",
              "9     journalism  82,463.0          40,649.0  41,814.0    0.312\n",
              "10         music  11,601.0          40,649.0 -29,048.0    0.667\n",
              "11   photography  11,598.0          40,649.0 -29,051.0    0.509\n",
              "12    publishing  12,927.0          40,649.0 -27,722.0    0.703\n",
              "13    technology  67,425.0          40,649.0  26,776.0    0.396\n",
              "14       theater  33,314.0          40,649.0  -7,335.0    0.712"
            ]
          },
          "metadata": {
            "tags": []
          },
          "execution_count": 68
        }
      ]
    },
    {
      "cell_type": "markdown",
      "metadata": {
        "id": "UDv-CvW8Pgel"
      },
      "source": [
        "<p>\n",
        "One can see that the farther the goal amount is under the mean goal amount for the entire dataset, as denoted \n",
        "in the 'diff_usd' column, in general the more successful the category tends to be in terms of overall success rate (win_pct).  There potentially are massive outliers skewing the absolute numbers but the pattern seems to hold.\n",
        "</p>\n"
      ]
    },
    {
      "cell_type": "markdown",
      "metadata": {
        "id": "PV1WOuDIPgel"
      },
      "source": [
        "## Conclusion\n",
        "___"
      ]
    },
    {
      "cell_type": "markdown",
      "metadata": {
        "id": "NyJrZrWqPgel"
      },
      "source": [
        "<p>Based on the above analysis it seems clear that a potential path for Kickstarter to pursue is to start incrementally increasing projects who's goal funding amount is less than the mean current goal amount on the platform.  These projects seem to have a higher level of success than ones who attempt to have outsized targets</p>\n"
      ]
    },
    {
      "cell_type": "markdown",
      "metadata": {
        "id": "AETFoVulPgel"
      },
      "source": [
        "### Future Work"
      ]
    },
    {
      "cell_type": "markdown",
      "metadata": {
        "id": "EqNXTrt8Pgem"
      },
      "source": [
        "<p>In the future clearly other variables should be analyzed in detail such as project duration, number of backers, and potentially using natural language processing (NLP) to analyze project descriptions to see if any of these vairables have further predictive power.\n",
        "\n",
        "In addition, machine learning models, such as Random Forest or LightGBM could be used to determine if project success is predictable better than baseline.  If so using these particular models it would be possible to extract feature importances to determine which particular variables are predictive of success.  Knowledge that Kickstarter could then use to promote projects that meet the criteria very aggressively or potentially modify the variables of other projects to increase their chances of success.</p>"
      ]
    }
  ]
}